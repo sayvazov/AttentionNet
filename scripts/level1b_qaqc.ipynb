{
  "cells": [
    {
      "cell_type": "code",
      "execution_count": null,
      "metadata": {
        "id": "T4Z0DIrxSJyL"
      },
      "outputs": [],
      "source": [
        "from msatl1b.geolocation.data_structs import L1bData, L1aData"
      ]
    }
  ],
  "metadata": {
    "language_info": {
      "name": "python"
    },
    "orig_nbformat": 4,
    "colab": {
      "provenance": []
    }
  },
  "nbformat": 4,
  "nbformat_minor": 0
}